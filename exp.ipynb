{
 "cells": [
  {
   "cell_type": "code",
   "execution_count": 6,
   "metadata": {},
   "outputs": [
    {
     "name": "stdout",
     "output_type": "stream",
     "text": [
      "a_0_j: 0.9942910792229765\n",
      "a_1_j: 0.04608882703727965\n",
      "z_0_k: -2.6048823887700756\n",
      "sig_0_k: 0.06882485834866416\n",
      "z_1_k: 8.253292217134998\n",
      "sig_1_k: 0.9997396679387291\n"
     ]
    }
   ],
   "source": [
    "import numpy as np\n",
    "\n",
    "def sigmoid(x):\n",
    "  return 1 / (1 + np.exp(-x))\n",
    "\n",
    "a_0_j = sigmoid(5.16)\n",
    "a_1_j = sigmoid(-3.03)\n",
    "\n",
    "print('a_0_j:', a_0_j)\n",
    "print('a_1_j:', a_1_j)\n",
    "\n",
    "z_0_k = -2.3 * a_0_j - 6.9 * a_1_j\n",
    "sig_0_k = sigmoid(z_0_k)\n",
    "\n",
    "print('z_0_k:', z_0_k)\n",
    "print('sig_0_k:', sig_0_k)\n",
    "\n",
    "z_1_k = 8.5 * a_0_j - 4.3 * a_1_j\n",
    "sig_1_k = sigmoid(z_1_k)\n",
    "\n",
    "print('z_1_k:', z_1_k)\n",
    "print('sig_1_k:', sig_1_k)"
   ]
  }
 ],
 "metadata": {
  "interpreter": {
   "hash": "f8e81aee174b51c63d6ec7e9895080587fd5c00306e5773b6092247593809262"
  },
  "kernelspec": {
   "display_name": "Python 3.9.7 64-bit ('Env_nn': conda)",
   "language": "python",
   "name": "python3"
  },
  "language_info": {
   "codemirror_mode": {
    "name": "ipython",
    "version": 3
   },
   "file_extension": ".py",
   "mimetype": "text/x-python",
   "name": "python",
   "nbconvert_exporter": "python",
   "pygments_lexer": "ipython3",
   "version": "3.9.7"
  },
  "orig_nbformat": 4
 },
 "nbformat": 4,
 "nbformat_minor": 2
}
